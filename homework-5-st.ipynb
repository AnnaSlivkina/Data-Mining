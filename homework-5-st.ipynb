{
 "cells": [
  {
   "cell_type": "markdown",
   "metadata": {},
   "source": [
    "# Домашнее задание 5. Линейные модели"
   ]
  },
  {
   "cell_type": "code",
   "execution_count": 1,
   "metadata": {
    "collapsed": false
   },
   "outputs": [
    {
     "name": "stdout",
     "output_type": "stream",
     "text": [
      "The history saving thread hit an unexpected error (OperationalError('disk I/O error',)).History will not be written to the database.\n",
      "Populating the interactive namespace from numpy and matplotlib\n"
     ]
    },
    {
     "name": "stderr",
     "output_type": "stream",
     "text": [
      "C:\\Users\\ww\\Anaconda2\\lib\\site-packages\\sklearn\\cross_validation.py:44: DeprecationWarning: This module was deprecated in version 0.18 in favor of the model_selection module into which all the refactored classes and functions are moved. Also note that the interface of the new CV iterators are different from that of this module. This module will be removed in 0.20.\n",
      "  \"This module will be removed in 0.20.\", DeprecationWarning)\n"
     ]
    }
   ],
   "source": [
    "import random as pr\n",
    "import numpy as np\n",
    "import pandas as pd\n",
    "import matplotlib.pylab as pl\n",
    "import sklearn.cross_validation as cv\n",
    "import sklearn.metrics as sm\n",
    "\n",
    "# Plotting config\n",
    "%pylab inline"
   ]
  },
  {
   "cell_type": "markdown",
   "metadata": {},
   "source": [
    "Зачитываем результат 4 домашки"
   ]
  },
  {
   "cell_type": "code",
   "execution_count": 2,
   "metadata": {
    "collapsed": false,
    "scrolled": true
   },
   "outputs": [],
   "source": [
    "data = np.load(\"out_5_dat.npz\")\n",
    "users = data[\"users\"]\n",
    "X_dataset = data[\"data\"].reshape(1,)[0]"
   ]
  },
  {
   "cell_type": "markdown",
   "metadata": {},
   "source": [
    "Зачитываем категории пользователей"
   ]
  },
  {
   "cell_type": "code",
   "execution_count": 3,
   "metadata": {
    "collapsed": false
   },
   "outputs": [],
   "source": [
    "TRAINING_SET_PATH = \"train.csv\"\n",
    "TESTING_SET_PATH = \"test.csv\"\n",
    "df_users_train = pd.read_csv(TRAINING_SET_PATH, sep=\",\", header=0)\n",
    "df_users_ex = pd.read_csv(TESTING_SET_PATH, sep=\",\", header=0)\n",
    "df_users_ex['cls'] = None\n",
    "df_users = pd.concat([df_users_train, df_users_ex])"
   ]
  },
  {
   "cell_type": "markdown",
   "metadata": {},
   "source": [
    "Модель строим для пользователей из twitter_train, нужно выбрать этих пользователей из матрицы из 4 ДЗ:"
   ]
  },
  {
   "cell_type": "code",
   "execution_count": 4,
   "metadata": {
    "collapsed": false
   },
   "outputs": [
    {
     "data": {
      "text/plain": [
       "<11947x201885 sparse matrix of type '<type 'numpy.float64'>'\n",
       "\twith 3299960 stored elements in Undefined format>"
      ]
     },
     "execution_count": 4,
     "metadata": {},
     "output_type": "execute_result"
    }
   ],
   "source": [
    "X_dataset"
   ]
  },
  {
   "cell_type": "code",
   "execution_count": 5,
   "metadata": {
    "collapsed": false,
    "scrolled": true
   },
   "outputs": [],
   "source": [
    "# TODO check this code\n",
    "train_users = df_users_train[\"uid\"].values\n",
    "ix = np.in1d(users, train_users).reshape(users.shape)\n",
    "X = X_dataset[:len(train_users)]"
   ]
  },
  {
   "cell_type": "markdown",
   "metadata": {},
   "source": [
    "Формируем целевую переменную: Делаем join списка пользователей из ДЗ4 с обучающей выборкой."
   ]
  },
  {
   "cell_type": "code",
   "execution_count": 6,
   "metadata": {
    "collapsed": false
   },
   "outputs": [
    {
     "name": "stdout",
     "output_type": "stream",
     "text": [
      "Resulting training set: (7199x201885) feature matrix, 7199 target vector\n"
     ]
    },
    {
     "data": {
      "text/plain": [
       "array([1, 0, 1, ..., 1, 1, 1], dtype=int64)"
      ]
     },
     "execution_count": 6,
     "metadata": {},
     "output_type": "execute_result"
    }
   ],
   "source": [
    "train_users_ids = users[np.where(ix)]\n",
    "Y_df = df_users_train.set_index(df_users_train['uid'].values)\n",
    "filtered_Y = Y_df.ix[train_users_ids]\n",
    "Y = df_users_train['cls'].values\n",
    "print \"Resulting training set: (%dx%d) feature matrix, %d target vector\" % (X.shape[0], X.shape[1], Y.shape[0])\n",
    "Y"
   ]
  },
  {
   "cell_type": "markdown",
   "metadata": {},
   "source": [
    "Чтобы исследовать, как ведут себя признаки, построим распределение количества ненулевых признаков у пользователей, чтобы убедиться, что он удовлетворяет закону Ципфа. Для этого построим гистограмму в логарифмических осях. [Подсказка](http://anokhin.github.io/img/sf1.png)"
   ]
  },
  {
   "cell_type": "code",
   "execution_count": 7,
   "metadata": {
    "collapsed": false
   },
   "outputs": [
    {
     "data": {
      "image/png": "[encoded data removed]",
      "text/plain": [
       "<matplotlib.figure.Figure at 0x18389ba8>"
      ]
     },
     "metadata": {},
     "output_type": "display_data"
    }
   ],
   "source": [
    "import collections\n",
    "from pylab import scatter\n",
    "import pylab\n",
    "import matplotlib.pyplot as plt\n",
    "\n",
    "freq_dict = collections.defaultdict(int)\n",
    "\n",
    "def draw_log_hist(X):\n",
    "    \"\"\"Draw tokens histogram in log scales\"\"\"\n",
    "    features_counts = np.zeros(X.shape[1], dtype=np.int32)\n",
    "    Xc = X.tocsc()\n",
    "\n",
    "    for feature in xrange(X.shape[1]):\n",
    "        frequency = Xc[:,feature].size\n",
    "        features_counts[feature] = frequency\n",
    "        freq_dict[frequency] += 1\n",
    "    \n",
    "    fig = plt.figure()\n",
    "    ax = plt.gca()\n",
    "    ax.plot(freq_dict.keys(), freq_dict.values(), 'o', c='blue', markeredgecolor='none', markersize=3.5)\n",
    "    ax.set_yscale('log')\n",
    "    ax.set_xscale('log')\n",
    "    pylab.show()\n",
    "    \n",
    "    return features_counts\n",
    "\n",
    "features_counts = draw_log_hist(X)"
   ]
  },
  {
   "cell_type": "markdown",
   "metadata": {},
   "source": [
    "Проведем отбор признаков. В самом простом случае просто удаляем признаки, имеющие ненулевое значение у менее, чем 100 пользователей."
   ]
  },
  {
   "cell_type": "code",
   "execution_count": 8,
   "metadata": {
    "collapsed": false
   },
   "outputs": [],
   "source": [
    "X1 = X.tocsc()[:, features_counts > 100].toarray()"
   ]
  },
  {
   "cell_type": "markdown",
   "metadata": {},
   "source": [
    "Вариант задания генерируется на основании вашего ника в техносфере."
   ]
  },
  {
   "cell_type": "code",
   "execution_count": 9,
   "metadata": {
    "collapsed": false
   },
   "outputs": [
    {
     "name": "stdout",
     "output_type": "stream",
     "text": [
      "My homework 5 algorithm is: Logistic regression with L1 regularization optimized by stochastic gradient descent\n"
     ]
    }
   ],
   "source": [
    "USER_NAME = \"a.slivkina\"\n",
    "OPTIMIZATION_ALGORITHMS = [\"stochastic gradient descent\", \"Newton method\"]\n",
    "REGULARIZATIONS = [\"L1\", \"L2\"]\n",
    "\n",
    "print \"My homework 5 algorithm is: Logistic regression with %s regularization optimized by %s\" % (\n",
    "    REGULARIZATIONS[hash(USER_NAME) % 2],\n",
    "    OPTIMIZATION_ALGORITHMS[hash(USER_NAME[::-1]) % 2]\n",
    ")"
   ]
  },
  {
   "cell_type": "markdown",
   "metadata": {},
   "source": [
    "Реализуем выбранный алгоритм"
   ]
  },
  {
   "cell_type": "code",
   "execution_count": 30,
   "metadata": {
    "collapsed": false
   },
   "outputs": [],
   "source": [
    "def sigmoid(z):\n",
    "    return (1.0 / (1 + exp(-z)))\n",
    "\n",
    "def quad_difference(u, v):\n",
    "    \"\"\" Quadratic difference between vectors \"\"\"\n",
    "    diff = u - v\n",
    "    return np.dot(diff, diff)\n",
    "\n",
    "class LogisticRegression():\n",
    "    \n",
    "    def __init__(self, eps=1e-3, C=1.0, min_difference=0.1):\n",
    "        self.eps = eps\n",
    "        self.C = C\n",
    "        self.min_difference = min_difference\n",
    "        \n",
    "    def compute_cost(self, X, Y):\n",
    "    \n",
    "        return self.C * np.sum(np.log(1 + np.exp(- X.dot(self.theta) * Y)))  + np.sum(np.abs(self.theta)) \n",
    "    \n",
    "    def cost_function_gradient(self, X, Y):\n",
    "       \n",
    "        return self.C * np.sum((1.0 / (1.0 + np.exp(X.dot(self.theta) * Y))).reshape((-1, 1)) * X * Y.reshape((-1, 1)), axis=0) +\\\n",
    "                np.sum(np.sign(self.theta))\n",
    "    \n",
    "    def fit(self, X, Y=None):\n",
    "        \n",
    "        self.theta, self.new_theta = X.shape\n",
    "        self.theta = np.random.uniform(-0.1, 0.1, size=X.shape[1])\n",
    "        self.new_theta = np.zeros(10 ** 6)\n",
    "        self.new_theta[0] = self.compute_cost(X, Y) \n",
    "        \n",
    "        weight_diff = +inf\n",
    "        new_theta_diff = +inf\n",
    "        i=0\n",
    "        \n",
    "            \n",
    "        while np.abs (weight_diff) > self.min_difference and np.abs(new_theta_diff) > self.min_difference:\n",
    "            prev_theta = self.theta\n",
    "            prev_new_theta = self.new_theta\n",
    "            \n",
    "            j = np.random.randint(0, len(Y))\n",
    "            self.theta += self.eps * self.cost_function_gradient(X[j], np.array(Y[j]))\n",
    "            self.new_theta[i] = self.compute_cost(X[j], Y[j]) \n",
    "                \n",
    "            # Recompute difference of weights\n",
    "            weight_diff = quad_difference(prev_theta, self.theta)\n",
    "            # Recompute difference of logistic functional\n",
    "            new_theta_diff = quad_difference(prev_new_theta, self.new_theta)\n",
    "            i=i+1\n",
    "\n",
    "        return True\n",
    "    \n",
    "    def predict_proba(self, X):\n",
    "        return 1 / (1 + np.exp(-np.dot(X, self.theta)))"
   ]
  },
  {
   "cell_type": "markdown",
   "metadata": {},
   "source": [
    "Реализуем метрику качества, используемую в соревновании: площадь под ROC кривой"
   ]
  },
  {
   "cell_type": "code",
   "execution_count": 31,
   "metadata": {
    "collapsed": false
   },
   "outputs": [
    {
     "name": "stdout",
     "output_type": "stream",
     "text": [
      "('AUC-ROC = ', 0.50543754108318151)\n",
      "('AUC-ROC = ', 0.5101838276956201)\n"
     ]
    }
   ],
   "source": [
    "from sklearn.metrics import roc_auc_score\n",
    "from sklearn.datasets import make_classification\n",
    "from sklearn.preprocessing import StandardScaler\n",
    "from sklearn.ensemble import RandomForestClassifier\n",
    "\n",
    "model =  LogisticRegression(eps=0.001, C=1)\n",
    "D, t = make_classification(n_samples=6000, n_features=30, n_informative=12, n_classes=2)\n",
    "sc = StandardScaler()\n",
    "model.fit(sc.fit_transform(D[:3500]), t[:3500]) \n",
    "prediction = model.predict_proba(sc.transform(D[3500:])) \n",
    "print (\"AUC-ROC = \", roc_auc_score(t[:size(prediction)], prediction))\n",
    "\n",
    "clf = RandomForestClassifier(n_estimators=100, max_depth=10, n_jobs=-1)\n",
    "clf.fit(X1[:3500], Y[:3500])\n",
    "prediction2 = clf.predict_proba(X1[3500:])[:, 1]\n",
    "print (\"AUC-ROC = \", roc_auc_score(Y[:size(prediction)], prediction))"
   ]
  },
  {
   "cell_type": "markdown",
   "metadata": {},
   "source": [
    "Разделим выборку с помощью методики кросс-валидации для того, чтобы настроить параметр регуляризации $C$"
   ]
  },
  {
   "cell_type": "code",
   "execution_count": 33,
   "metadata": {
    "collapsed": false
   },
   "outputs": [
    {
     "name": "stdout",
     "output_type": "stream",
     "text": [
      "Selected reg. param is  5\n"
     ]
    }
   ],
   "source": [
    "C = [0.0, 0.01, 0.1, 1, 10, 100, 1000, 10000]\n",
    "SIZE = 400\n",
    "auc_scores = dict()\n",
    "\n",
    "def CrossValidation(X, Y, size, cross_val_id):\n",
    "    ind = [idx >= size * cross_val_id and idx < size * (cross_val_id + 1) for idx in range(X.shape[0])]\n",
    "    array_ind = np.array(ind)\n",
    "    not_ind_array = np.logical_not(array_ind)\n",
    "    X_1 = X[np.where(array_ind)]\n",
    "    X_2 = X[np.where(not_ind_array)]\n",
    "    Y_1 = Y[np.where(array_ind)]\n",
    "    Y_2 = Y[np.where(not_ind_array)]\n",
    "    return (X_1, Y_1, X_2, Y_2)\n",
    "\n",
    "def select_reg_parameter(C, X, Y):\n",
    "    selected_index = 0\n",
    "    best_auc_score = 0.0\n",
    "    for i in xrange(len(C)):\n",
    "        C_value = C[i]\n",
    "        model =  LogisticRegression(C=C_value)\n",
    "        \n",
    "        if (X1.shape[0] % SIZE > 0):\n",
    "            pieces = X1.shape[0] / SIZE + 1  \n",
    "        else: pieces = 0\n",
    "        local_auc_score = 0.0\n",
    "        converges = False\n",
    "        for j in xrange(pieces):\n",
    "            X_1, Y_2, X_trn, Y_trn = CrossValidation(X1, Y, SIZE, j)\n",
    "            converges = model.fit(X_trn, Y_trn)\n",
    "            if converges:\n",
    "                Y_3 = model.predict_proba(X_1)\n",
    "                local_auc_score = local_auc_score + roc_auc_score(Y_2, Y_3)\n",
    "            else:\n",
    "                local_auc_score = 0.0\n",
    "                break\n",
    "                \n",
    "        local_auc_score = local_auc_score / pieces\n",
    "        auc_scores[i] = local_auc_score\n",
    "        \n",
    "        if local_auc_score > best_auc_score:\n",
    "            selected_index = i\n",
    "            best_auc_score = local_auc_score\n",
    "            \n",
    "    return selected_index\n",
    "\n",
    "index = select_reg_parameter(C, X1, Y)\n",
    "print \"Selected reg. param is \", index\n"
   ]
  },
  {
   "cell_type": "markdown",
   "metadata": {},
   "source": [
    "Выбираем наилучшее значение $C$, и классифицируем неизвестных пользователей и строим ROC-кривую"
   ]
  },
  {
   "cell_type": "code",
   "execution_count": 36,
   "metadata": {
    "collapsed": false
   },
   "outputs": [
    {
     "name": "stdout",
     "output_type": "stream",
     "text": [
      "Area under the ROC curve : 0.521446\n"
     ]
    },
    {
     "data": {
      "image/png": "[encoded data removed]",
      "text/plain": [
       "<matplotlib.figure.Figure at 0x1fced0b8>"
      ]
     },
     "metadata": {},
     "output_type": "display_data"
    }
   ],
   "source": [
    "LEVELS = 2000\n",
    "\n",
    "def much_more(x, l):\n",
    "    return 1 if x >= l else 0\n",
    "\n",
    "much_more_vector = np.vectorize(much_more)\n",
    "\n",
    "def classify(X, Y, test_size, C):\n",
    "    tpr = np.zeros(LEVELS)\n",
    "    fpr = np.zeros(LEVELS)\n",
    "    validation_size = int(Y.shape[0] * test_size)\n",
    "    X_1, Y_2, X_trn, Y_trn = CrossValidation(X, Y, validation_size, 0)\n",
    "    model =  LogisticRegression(C=C)\n",
    "    model.fit(X_trn, Y_trn)\n",
    "    Y_3 = model.predict_proba(X_1)\n",
    "    for l in xrange(LEVELS):\n",
    "        \n",
    "        limit = float(l) / float(LEVELS)\n",
    "        Y_binarized = much_more_vector(Y_3, limit)\n",
    "        true_positives = Y_binarized * Y_2\n",
    "        \n",
    "        false_negatives = np.logical_not(Y_binarized).astype(np.int32) * Y_2\n",
    "        tpr[l] = float(np.sum(true_positives)) / (np.sum(true_positives) + np.sum(false_negatives))\n",
    "        \n",
    "        true_negatives = np.logical_not(Y_binarized + false_negatives).astype(np.int32)\n",
    "        false_positives = Y_binarized - true_positives\n",
    "        fpr[l] = float(np.sum(false_positives)) / (np.sum(false_positives) + np.sum(true_negatives))\n",
    "        \n",
    "        roc_auc = roc_auc_score(Y_2, Y_3)    \n",
    "    \n",
    "    return tpr, fpr, roc_auc\n",
    "\n",
    "tpr, fpr, roc_auc = classify(X1, Y, 0.3, C[index])\n",
    "\n",
    "print \"Area under the ROC curve : %f\" % roc_auc\n",
    "\n",
    "def plot_roc_curve(tpr, fpr, roc_auc):\n",
    "    \"\"\"Plot ROC curve\"\"\"\n",
    "    \n",
    "    fig = plt.figure(figsize=(7, 7))\n",
    "    ax = plt.gca()\n",
    "    ax.set_xlim([0, 1])\n",
    "    ax.set_ylim([0, 1])\n",
    "    plt.plot(fpr, tpr, color='green')\n",
    "    plt.plot([0, 1], [0, 1], color='magenta')\n",
    "    pl.fill_between(fpr, tpr, alpha=0.4, color='cyan')\n",
    "    plt.xlabel(\"False positives rate\")\n",
    "    plt.ylabel(\"True positives rate\")\n",
    "    plt.show()\n",
    "    \n",
    "    return\n",
    "\n",
    "plot_roc_curve(tpr, fpr, roc_auc)"
   ]
  },
  {
   "cell_type": "code",
   "execution_count": 37,
   "metadata": {
    "collapsed": true
   },
   "outputs": [],
   "source": [
    "from sklearn import svm, datasets, feature_selection, cross_validation\n",
    "from sklearn.feature_selection import VarianceThreshold"
   ]
  },
  {
   "cell_type": "markdown",
   "metadata": {},
   "source": [
    "С помощью полученной модели предсказываем категории для неизвестных пользователей из соревнования и загружаем на kaggle в нужном формате. ДЗ принимается только при наличии загруженных данных на kaggle."
   ]
  },
  {
   "cell_type": "code",
   "execution_count": 40,
   "metadata": {
    "collapsed": false
   },
   "outputs": [
    {
     "name": "stdout",
     "output_type": "stream",
     "text": [
      "Model is teached!\n"
     ]
    }
   ],
   "source": [
    "\n",
    "# Use the model for Evil\n",
    "users = data[\"users\"]\n",
    "X_dataset = data[\"data\"].reshape(1,)[0]\n",
    "train_users = df_users_train[\"uid\"].values\n",
    "ix = np.in1d(users, train_users).reshape(users.shape)\n",
    "X = X_dataset[:len(train_users)]\n",
    "train_users_ids = users[np.where(ix)]\n",
    "Y_df = df_users_train.set_index(df_users_train['uid'].values)\n",
    "filtered_Y = Y_df.ix[train_users_ids]\n",
    "Y = df_users_train['cls'].values\n",
    "X1 = X.tocsc()[:, features_counts > 100].toarray()\n",
    "\n",
    "\n",
    "converges = model.fit(X1, Y)\n",
    "\n",
    "if converges:\n",
    "    print \"Model is teached!\"\n",
    "    Y_eval = model.predict_proba(X1)\n",
    "    result_df = pd.DataFrame({\"uid\": train_users,\"cls\": Y_eval})\n",
    "    result_df['uid'].astype('int64')\n",
    "    result_df.to_csv('submission.csv')\n",
    "    # Build dataset with missing users for Kaggle\n",
    "    result_df = result_df.set_index(\"uid\")\n",
    "    full_result_df = df_users[df_users['cls'].isnull()].set_index('uid')\n",
    "    full_result_df['cat'] = result_df['cls']\n",
    "    full_result_df.fillna(value=0.5, inplace=True)\n",
    "    full_result_df.to_csv('cheater_newage.txt')\n",
    "    \n",
    "else:\n",
    "    print \"throw new PechalkaException('EPIC FAIL')\""
   ]
  }
 ],
 "metadata": {
  "kernelspec": {
   "display_name": "Python 2",
   "language": "python",
   "name": "python2"
  },
  "language_info": {
   "codemirror_mode": {
    "name": "ipython",
    "version": 2
   },
   "file_extension": ".py",
   "mimetype": "text/x-python",
   "name": "python",
   "nbconvert_exporter": "python",
   "pygments_lexer": "ipython2",
   "version": "2.7.10"
  }
 },
 "nbformat": 4,
 "nbformat_minor": 0
}
